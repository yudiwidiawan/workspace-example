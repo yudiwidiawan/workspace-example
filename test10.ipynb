{
 "cells": [
  {
   "cell_type": "code",
   "execution_count": null,
   "id": "6a23f467",
   "metadata": {},
   "outputs": [],
   "source": [
    "import pandas as pd\n",
    "import seaborn as sns\n",
    "import matplotlib.pyplot as plt"
   ]
  },
  {
   "cell_type": "code",
   "execution_count": null,
   "id": "1d199694",
   "metadata": {},
   "outputs": [],
   "source": [
    "    df = pd.read_csv('df_used_1.csv')\n",
    "    df"
   ]
  },
  {
   "cell_type": "code",
   "execution_count": null,
   "id": "6bc58cdf",
   "metadata": {},
   "outputs": [],
   "source": [
    "df['Date'] = pd.to_datetime(df['Date'],format='%Y-%m')"
   ]
  },
  {
   "cell_type": "code",
   "execution_count": null,
   "id": "b1bc3536",
   "metadata": {},
   "outputs": [],
   "source": [
    "df.info()"
   ]
  },
  {
   "cell_type": "code",
   "execution_count": null,
   "id": "bc561515",
   "metadata": {},
   "outputs": [],
   "source": [
    "df_ix = df.copy()\n",
    "df_ix = df_ix.set_index('Date')\n",
    "df_ix.head()"
   ]
  },
  {
   "cell_type": "code",
   "execution_count": null,
   "id": "ab69bd44",
   "metadata": {},
   "outputs": [],
   "source": [
    "from statsmodels.tsa.seasonal import seasonal_decompose\n",
    "from matplotlib import rcParams\n",
    "\n",
    "rcParams['figure.figsize'] = (20,10)\n",
    "decomposed = seasonal_decompose(df_ix['Penumpang Datang'])\n",
    "decomposed.plot();"
   ]
  },
  {
   "cell_type": "code",
   "execution_count": null,
   "id": "d091b62f",
   "metadata": {},
   "outputs": [],
   "source": [
    "from statsmodels.tsa.stattools import adfuller\n",
    "\n",
    "test_adf = adfuller(df['Penumpang Datang'])\n",
    "output = pd.Series(\n",
    "    test_adf[:4],\n",
    "    index=['Test statistic', 'p-value', '# of lags', '# of observations']\n",
    ")\n",
    "\n",
    "for key, value in test_adf[4].items():\n",
    "    output['Critical Value ({})'.format(key)] = value\n",
    "\n",
    "output"
   ]
  },
  {
   "cell_type": "code",
   "execution_count": null,
   "id": "3a06a692",
   "metadata": {},
   "outputs": [],
   "source": [
    "alpha = 0.05\n",
    "if test_adf[1] <= alpha:\n",
    "    print('Reject null hypothesis; The series doesn\\'t have a unit root')\n",
    "else:\n",
    "    print('Failed to reject null hypothesis; The series has a unit root')"
   ]
  },
  {
   "cell_type": "code",
   "execution_count": null,
   "id": "70968530",
   "metadata": {},
   "outputs": [],
   "source": [
    "from statsmodels.tsa.stattools import kpss \n",
    "\n",
    "test_kpps = kpss(df['Penumpang Datang'])\n",
    "output = pd.Series(\n",
    "    test_kpps[:3],\n",
    "    index=['Test statistic', 'p-value', '# of lags']\n",
    ")\n",
    "\n",
    "for key, value in test_kpps[3].items():\n",
    "    output['Critical Value ({})'.format(key)] = value\n",
    "output"
   ]
  },
  {
   "cell_type": "code",
   "execution_count": null,
   "id": "dfe272ee",
   "metadata": {},
   "outputs": [],
   "source": [
    "alpha = 0.05\n",
    "if test_kpps[1] <= alpha:\n",
    "    print('Reject null hypothesis; The series has a unit root')\n",
    "else:\n",
    "    print('Failed to reject null hypothesis; The series is stationary')"
   ]
  },
  {
   "cell_type": "code",
   "execution_count": null,
   "id": "f70c7ad4",
   "metadata": {},
   "outputs": [],
   "source": [
    "pip install pmdarima"
   ]
  },
  {
   "cell_type": "code",
   "execution_count": null,
   "id": "fb35eab6",
   "metadata": {},
   "outputs": [],
   "source": [
    "import pmdarima as pmd\n",
    "\n",
    "arima_model = pmd.auto_arima(\n",
    "    df_ix['Penumpang Datang'],\n",
    "    d=0, start_p=0,\n",
    "    start_q=0, trace=True,\n",
    "    stationary=True\n",
    ")"
   ]
  },
  {
   "cell_type": "code",
   "execution_count": null,
   "id": "b75e618d",
   "metadata": {},
   "outputs": [],
   "source": [
    "from statsmodels.tsa.arima_model import ARIMA\n",
    "\n",
    "model = ARIMA(df_ix['Penumpang Datang'], order=(2,0,0))\n",
    "model_fit = model.fit()\n",
    "print(model_fit.summary())"
   ]
  },
  {
   "cell_type": "code",
   "execution_count": null,
   "id": "c593b532",
   "metadata": {},
   "outputs": [],
   "source": [
    "forecast_length = 12\n",
    "forecast_result = model_fit.forecast(forecast_length)"
   ]
  },
  {
   "cell_type": "code",
   "execution_count": null,
   "id": "d9f7d7a5",
   "metadata": {},
   "outputs": [],
   "source": [
    "forecast_result"
   ]
  },
  {
   "cell_type": "code",
   "execution_count": null,
   "id": "e075f8f7",
   "metadata": {},
   "outputs": [],
   "source": [
    "print('Forecast result')\n",
    "forecast_result[0]"
   ]
  },
  {
   "cell_type": "code",
   "execution_count": null,
   "id": "42f91efe",
   "metadata": {},
   "outputs": [],
   "source": [
    "forecasted_month = []\n",
    "for i in range(1, forecast_length + 1):\n",
    "    forecasted_month.append('2020-' + str(i))\n",
    "\n",
    "forecasted_month"
   ]
  },
  {
   "cell_type": "code",
   "execution_count": null,
   "id": "cb9858c2",
   "metadata": {},
   "outputs": [],
   "source": [
    "df_forecast = pd.DataFrame({\n",
    "    'Date': forecasted_month,\n",
    "    'Penumpang Datang': forecast_result[0],\n",
    "    'Std. Error': forecast_result[1],\n",
    "    'Lower Bound CI': forecast_result[2][:, 0],\n",
    "    'Upper Bound CI': forecast_result[2][:, 1]\n",
    "})\n",
    "\n",
    "df_forecast['Date'] = pd.to_datetime(df_forecast['Date'], format='%Y-%m')\n",
    "df_forecast"
   ]
  },
  {
   "cell_type": "code",
   "execution_count": null,
   "id": "7813d805",
   "metadata": {},
   "outputs": [],
   "source": [
    "df_forecast.info()"
   ]
  },
  {
   "cell_type": "code",
   "execution_count": null,
   "id": "cf428dbb",
   "metadata": {},
   "outputs": [],
   "source": [
    "fig, ax = plt.subplots(figsize=(9,5))\n",
    "sns.lineplot(x='Date', y='Penumpang Datang', data=df, ax=ax)\n",
    "sns.lineplot(x='Date', y='Penumpang Datang', data=df_forecast, ax=ax, label='Forecasted Penumpang Datang')\n",
    "sns.lineplot(x='Date', y='Lower Bound CI', data=df_forecast, ax=ax, label='Lower Bound')\n",
    "sns.lineplot(x='Date', y='Upper Bound CI', data=df_forecast, ax=ax, label='Upper Bound')\n",
    "plt.legend();"
   ]
  },
  {
   "cell_type": "code",
   "execution_count": null,
   "id": "6cd04af9",
   "metadata": {},
   "outputs": [],
   "source": []
  }
 ],
 "metadata": {
  "kernelspec": {
   "display_name": "Python 3",
   "language": "python",
   "name": "python3"
  },
  "language_info": {
   "codemirror_mode": {
    "name": "ipython",
    "version": 3
   },
   "file_extension": ".py",
   "mimetype": "text/x-python",
   "name": "python",
   "nbconvert_exporter": "python",
   "pygments_lexer": "ipython3",
   "version": "3.6.8"
  }
 },
 "nbformat": 4,
 "nbformat_minor": 5
}
